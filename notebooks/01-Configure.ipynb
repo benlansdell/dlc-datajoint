{
 "cells": [
  {
   "cell_type": "markdown",
   "metadata": {
    "tags": []
   },
   "source": [
    "# DataJoint U24 - Workflow DeepLabCut"
   ]
  },
  {
   "cell_type": "markdown",
   "metadata": {
    "tags": []
   },
   "source": [
    "## Configure DataJoint"
   ]
  },
  {
   "cell_type": "markdown",
   "metadata": {
    "tags": []
   },
   "source": [
    "- To run `workflow-deeplabcut`, we need to set up the DataJoint config file, called `dj_local_conf.json`, unique to each machine.\n",
    "\n",
    "- The config only needs to be set up once. If you already have one, skip to [02-Workflow-Structure](./02-WorkflowStructure_Optional.ipynb).\n",
    "\n",
    "- By convention, we set a local config in the workflow directory. You may be interested in [setting a global config](https://docs.datajoint.org/python/setup/01-Install-and-Connect.html)."
   ]
  },
  {
   "cell_type": "code",
   "execution_count": 1,
   "metadata": {},
   "outputs": [],
   "source": [
    "import os\n",
    "# change to the upper level folder to detect dj_local_conf.json\n",
    "if os.path.basename(os.getcwd())=='notebooks': os.chdir('..')\n",
    "assert os.path.basename(os.getcwd())=='workflow-deeplabcut', (\"Please move to the \"\n",
    "                                                              + \"workflow directory\")"
   ]
  },
  {
   "cell_type": "markdown",
   "metadata": {},
   "source": [
    "### Configure database host address and credentials"
   ]
  },
  {
   "cell_type": "markdown",
   "metadata": {},
   "source": [
    "Now we can set up credentials following [instructions here](https://tutorials.datajoint.io/setting-up/get-database.html)."
   ]
  },
  {
   "cell_type": "code",
   "execution_count": 2,
   "metadata": {},
   "outputs": [
    {
     "name": "stdout",
     "output_type": "stream",
     "text": [
      " ····\n"
     ]
    }
   ],
   "source": [
    "import datajoint as dj\n",
    "import getpass\n",
    "dj.config['database.host'] = '{YOUR_HOST}'\n",
    "dj.config['database.user'] = '{YOUR_USERNAME}'\n",
    "dj.config['database.password'] = getpass.getpass() # enter the password securely"
   ]
  },
  {
   "cell_type": "markdown",
   "metadata": {},
   "source": [
    "You should be able to connect to the database at this stage."
   ]
  },
  {
   "cell_type": "code",
   "execution_count": null,
   "metadata": {},
   "outputs": [],
   "source": [
    "dj.conn()"
   ]
  },
  {
   "cell_type": "markdown",
   "metadata": {},
   "source": [
    "### Configure the `custom` field"
   ]
  },
  {
   "cell_type": "markdown",
   "metadata": {},
   "source": [
    "#### Prefix"
   ]
  },
  {
   "cell_type": "markdown",
   "metadata": {},
   "source": [
    "A schema prefix can help manage privelages on a server. Teams who work on the same schemas should use the same prefix\n",
    "\n",
    "Setting the prefix to `neuro_` means that every schema we then create will start with `neuro_` (e.g. `neuro_lab`, `neuro_subject`, `neuro_model` etc.)"
   ]
  },
  {
   "cell_type": "code",
   "execution_count": null,
   "metadata": {},
   "outputs": [],
   "source": [
    "dj.config['custom'] = {'database.prefix': 'neuro_'}"
   ]
  },
  {
   "cell_type": "markdown",
   "metadata": {},
   "source": [
    "#### Root directory"
   ]
  },
  {
   "cell_type": "markdown",
   "metadata": {},
   "source": [
    "`dlc_root_data_dir` sets the root path(s) for the Element. Given multiple, the Element will always figure out which root to use based on the files it expects there. This should be the directory above your DeepLabCut project path."
   ]
  },
  {
   "cell_type": "code",
   "execution_count": null,
   "metadata": {},
   "outputs": [],
   "source": [
    "dj.config['custom'] = {'dlc_root_data_dir' : ['/tmp/test_data/', '/tmp/example/']}\n",
    "\n",
    "# Check the connection with `find_full_path`\n",
    "from element_interface.utils import find_full_path\n",
    "data_dir = find_full_path(dj.config['custom']['dlc_root_data_dir'],\n",
    "                          'from_top_tracking')\n",
    "assert data_dir.exists(), \"Please check the that you have the from_top_tracking folder\""
   ]
  },
  {
   "cell_type": "markdown",
   "metadata": {},
   "source": [
    "## Save the config as a json\n",
    "\n",
    "Once set, the config can either be saved locally or globally. \n",
    "\n",
    "- The local config would be saved as `dj_local_conf.json` in the workflow directory. This is usefull for managing multiple (demo) pipelines.\n",
    "- A global config would be saved as `datajoint_config.json` in the home directory.\n",
    "\n",
    "When imported, DataJoint will first check for a local config. If none, it will check for a global config."
   ]
  },
  {
   "cell_type": "code",
   "execution_count": null,
   "metadata": {},
   "outputs": [],
   "source": [
    "dj.config.save_local()\n",
    "# dj.config.save_global()"
   ]
  },
  {
   "cell_type": "markdown",
   "metadata": {},
   "source": [
    "In the [next notebook](./02-WorkflowStructure_Optional.ipynb) notebook, we'll explore the workflow structure."
   ]
  }
 ],
 "metadata": {
  "jupytext": {
   "formats": "ipynb,py:percent"
  },
  "kernelspec": {
   "display_name": "Python 3.8.11 ('ele')",
   "language": "python",
   "name": "python3"
  },
  "language_info": {
   "codemirror_mode": {
    "name": "ipython",
    "version": 3
   },
   "file_extension": ".py",
   "mimetype": "text/x-python",
   "name": "python",
   "nbconvert_exporter": "python",
   "pygments_lexer": "ipython3",
   "version": "3.8.11"
  },
  "vscode": {
   "interpreter": {
    "hash": "61456c693db5d9aa6731701ec9a9b08ab88a172bee0780139a3679beb166da16"
   }
  }
 },
 "nbformat": 4,
 "nbformat_minor": 4
}
