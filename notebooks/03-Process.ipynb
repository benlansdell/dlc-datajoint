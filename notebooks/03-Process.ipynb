{
 "cells": [
  {
   "cell_type": "markdown",
   "metadata": {
    "tags": []
   },
   "source": [
    "# DataJoint U24 - Workflow DeepLabCut"
   ]
  },
  {
   "cell_type": "markdown",
   "metadata": {
    "tags": []
   },
   "source": [
    "## Interactively run the workflow"
   ]
  },
  {
   "cell_type": "markdown",
   "metadata": {},
   "source": [
    "\n",
    "The workflow requires a DeepLabCut project with labeled data.\n",
    "- If you don't have data, refer to [00-DataDownload](./00-DataDownload_Optional.ipynb) and [01-Configure](./01-Configure.ipynb).\n",
    "- For an overview of the schema, refer to [02-WorkflowStructure](02-WorkflowStructure_Optional.ipynb).\n",
    "- For a more automated approach, refer to [03-Automate](03-Automate_Optional.ipynb)."
   ]
  },
  {
   "cell_type": "markdown",
   "metadata": {},
   "source": [
    "Let's change the directory to load the local config, `dj_local_conf.json`."
   ]
  },
  {
   "cell_type": "code",
   "execution_count": 1,
   "metadata": {},
   "outputs": [],
   "source": [
    "import os\n",
    "# change to the upper level folder to detect dj_local_conf.json\n",
    "if os.path.basename(os.getcwd())=='notebooks': os.chdir('..')\n",
    "assert os.path.basename(os.getcwd())=='workflow-deeplabcut', (\"Please move to the \"\n",
    "                                                              + \"workflow directory\")"
   ]
  },
  {
   "cell_type": "markdown",
   "metadata": {},
   "source": [
    "`Pipeline.py` activates the DataJoint `elements` and declares other required tables."
   ]
  },
  {
   "cell_type": "code",
   "execution_count": 2,
   "metadata": {},
   "outputs": [
    {
     "name": "stdout",
     "output_type": "stream",
     "text": [
      "Connecting cbroz@dss-db.datajoint.io:3306\n"
     ]
    }
   ],
   "source": [
    "import datajoint as dj\n",
    "from workflow_deeplabcut.pipeline import lab, subject, session, train, model\n",
    "\n",
    "# Directing our pipeline to the appropriate config location\n",
    "from element_interface.utils import find_full_path\n",
    "from workflow_deeplabcut.paths import get_dlc_root_data_dir\n",
    "config_path = find_full_path(get_dlc_root_data_dir(), \n",
    "                             'from_top_tracking/config.yaml')"
   ]
  },
  {
   "cell_type": "markdown",
   "metadata": {
    "tags": []
   },
   "source": [
    "## Manually Inserting Entries"
   ]
  },
  {
   "cell_type": "markdown",
   "metadata": {},
   "source": [
    "### Upstream tables"
   ]
  },
  {
   "cell_type": "markdown",
   "metadata": {},
   "source": [
    "We can insert entries into `dj.Manual` tables (green in diagrams) by providing values as a dictionary or a list of dictionaries. "
   ]
  },
  {
   "cell_type": "code",
   "execution_count": null,
   "metadata": {},
   "outputs": [
    {
     "data": {
      "text/plain": [
       "# \n",
       "subject              : varchar(32)                  # \n",
       "session_datetime     : datetime(3)                  # "
      ]
     },
     "metadata": {},
     "output_type": "display_data"
    }
   ],
   "source": [
    "session.Session.heading"
   ]
  },
  {
   "cell_type": "code",
   "execution_count": 4,
   "metadata": {},
   "outputs": [],
   "source": [
    "subject.Subject.insert1(dict(subject='subject6', \n",
    "                             sex='F', \n",
    "                             subject_birth_date='2020-01-01', \n",
    "                             subject_description='hneih_E105'))\n",
    "session_keys = [dict(subject='subject6', session_datetime='2021-06-02 14:04:22'),\n",
    "                dict(subject='subject6', session_datetime='2021-06-03 14:43:10')]\n",
    "session.Session.insert(session_keys)"
   ]
  },
  {
   "cell_type": "markdown",
   "metadata": {},
   "source": [
    "We can look at the contents of this table and restrict by a value."
   ]
  },
  {
   "cell_type": "code",
   "execution_count": 5,
   "metadata": {},
   "outputs": [
    {
     "data": {
      "text/html": [
       "\n",
       "    \n",
       "    <style type=\"text/css\">\n",
       "        .Relation{\n",
       "            border-collapse:collapse;\n",
       "        }\n",
       "        .Relation th{\n",
       "            background: #A0A0A0; color: #ffffff; padding:4px; border:#f0e0e0 1px solid;\n",
       "            font-weight: normal; font-family: monospace; font-size: 100%;\n",
       "        }\n",
       "        .Relation td{\n",
       "            padding:4px; border:#f0e0e0 1px solid; font-size:100%;\n",
       "        }\n",
       "        .Relation tr:nth-child(odd){\n",
       "            background: #ffffff;\n",
       "        }\n",
       "        .Relation tr:nth-child(even){\n",
       "            background: #f3f1ff;\n",
       "        }\n",
       "        /* Tooltip container */\n",
       "        .djtooltip {\n",
       "        }\n",
       "        /* Tooltip text */\n",
       "        .djtooltip .djtooltiptext {\n",
       "            visibility: hidden;\n",
       "            width: 120px;\n",
       "            background-color: black;\n",
       "            color: #fff;\n",
       "            text-align: center;\n",
       "            padding: 5px 0;\n",
       "            border-radius: 6px;\n",
       "            /* Position the tooltip text - see examples below! */\n",
       "            position: absolute;\n",
       "            z-index: 1;\n",
       "        }\n",
       "        #primary {\n",
       "            font-weight: bold;\n",
       "            color: black;\n",
       "        }\n",
       "        #nonprimary {\n",
       "            font-weight: normal;\n",
       "            color: white;\n",
       "        }\n",
       "\n",
       "        /* Show the tooltip text when you mouse over the tooltip container */\n",
       "        .djtooltip:hover .djtooltiptext {\n",
       "            visibility: visible;\n",
       "        }\n",
       "    </style>\n",
       "    \n",
       "    <b></b>\n",
       "        <div style=\"max-height:1000px;max-width:1500px;overflow:auto;\">\n",
       "        <table border=\"1\" class=\"Relation\">\n",
       "            <thead> <tr style=\"text-align: right;\"> <th> <div class=\"djtooltip\">\n",
       "                            <p id=\"primary\">subject</p>\n",
       "                            <span class=\"djtooltiptext\"></span>\n",
       "                        </div></th><th><div class=\"djtooltip\">\n",
       "                            <p id=\"primary\">session_datetime</p>\n",
       "                            <span class=\"djtooltiptext\"></span>\n",
       "                        </div> </th> </tr> </thead>\n",
       "            <tbody> <tr> <td>subject6</td>\n",
       "<td>2021-06-02 14:04:22</td></tr><tr><td>subject6</td>\n",
       "<td>2021-06-03 14:43:10</td> </tr> </tbody>\n",
       "        </table>\n",
       "        \n",
       "        <p>Total: 2</p></div>\n",
       "        "
      ],
      "text/plain": [
       "*subject     *session_datet\n",
       "+----------+ +------------+\n",
       "subject6     2021-06-02 14:\n",
       "subject6     2021-06-03 14:\n",
       " (Total: 2)"
      ]
     },
     "execution_count": 5,
     "metadata": {},
     "output_type": "execute_result"
    }
   ],
   "source": [
    "session.Session() & \"session_datetime > '2021-06-01 12:00:00'\" & \"subject='subject6'\""
   ]
  },
  {
   "cell_type": "markdown",
   "metadata": {
    "tags": []
   },
   "source": [
    "#### DeepLabcut Tables"
   ]
  },
  {
   "cell_type": "markdown",
   "metadata": {},
   "source": [
    "The `VideoSet` table in the `train` schema retains records of files generated in the video labeling process (e.g., `h5`, `csv`, `png`). DeepLabCut will refer to the `mat` file located under the `training-datasets` directory.\n",
    "\n",
    "We recommend storing all paths as relative to the root in your config."
   ]
  },
  {
   "cell_type": "code",
   "execution_count": 17,
   "metadata": {},
   "outputs": [],
   "source": [
    "train.VideoSet.insert1({'video_set_id': 0})\n",
    "project_folder = 'from_top_tracking/'\n",
    "training_files = ['labeled-data/train1/CollectedData_DJ.h5',\n",
    "                  'labeled-data/train1/CollectedData_DJ.csv',\n",
    "                  'labeled-data/train1/img00674.png',\n",
    "                  'videos/train1.mp4']\n",
    "for idx, filename in enumerate(training_files):\n",
    "    train.VideoSet.File.insert1({'video_set_id': 0,\n",
    "                                 'file_id': idx,\n",
    "                                 'file_path': (project_folder + filename)})"
   ]
  },
  {
   "cell_type": "code",
   "execution_count": 18,
   "metadata": {},
   "outputs": [
    {
     "data": {
      "text/html": [
       "\n",
       "    \n",
       "    <style type=\"text/css\">\n",
       "        .Relation{\n",
       "            border-collapse:collapse;\n",
       "        }\n",
       "        .Relation th{\n",
       "            background: #A0A0A0; color: #ffffff; padding:4px; border:#f0e0e0 1px solid;\n",
       "            font-weight: normal; font-family: monospace; font-size: 100%;\n",
       "        }\n",
       "        .Relation td{\n",
       "            padding:4px; border:#f0e0e0 1px solid; font-size:100%;\n",
       "        }\n",
       "        .Relation tr:nth-child(odd){\n",
       "            background: #ffffff;\n",
       "        }\n",
       "        .Relation tr:nth-child(even){\n",
       "            background: #f3f1ff;\n",
       "        }\n",
       "        /* Tooltip container */\n",
       "        .djtooltip {\n",
       "        }\n",
       "        /* Tooltip text */\n",
       "        .djtooltip .djtooltiptext {\n",
       "            visibility: hidden;\n",
       "            width: 120px;\n",
       "            background-color: black;\n",
       "            color: #fff;\n",
       "            text-align: center;\n",
       "            padding: 5px 0;\n",
       "            border-radius: 6px;\n",
       "            /* Position the tooltip text - see examples below! */\n",
       "            position: absolute;\n",
       "            z-index: 1;\n",
       "        }\n",
       "        #primary {\n",
       "            font-weight: bold;\n",
       "            color: black;\n",
       "        }\n",
       "        #nonprimary {\n",
       "            font-weight: normal;\n",
       "            color: white;\n",
       "        }\n",
       "\n",
       "        /* Show the tooltip text when you mouse over the tooltip container */\n",
       "        .djtooltip:hover .djtooltiptext {\n",
       "            visibility: visible;\n",
       "        }\n",
       "    </style>\n",
       "    \n",
       "    <b>Paths of training files (e.g., labeled pngs, CSV or video)</b>\n",
       "        <div style=\"max-height:1000px;max-width:1500px;overflow:auto;\">\n",
       "        <table border=\"1\" class=\"Relation\">\n",
       "            <thead> <tr style=\"text-align: right;\"> <th> <div class=\"djtooltip\">\n",
       "                            <p id=\"primary\">video_set_id</p>\n",
       "                            <span class=\"djtooltiptext\"></span>\n",
       "                        </div></th><th><div class=\"djtooltip\">\n",
       "                            <p id=\"primary\">file_id</p>\n",
       "                            <span class=\"djtooltiptext\"></span>\n",
       "                        </div></th><th><div class=\"djtooltip\">\n",
       "                            <p id=\"nonprimary\">file_path</p>\n",
       "                            <span class=\"djtooltiptext\"></span>\n",
       "                        </div> </th> </tr> </thead>\n",
       "            <tbody> <tr> <td>0</td>\n",
       "<td>0</td>\n",
       "<td>from_top_tracking/labeled-data/train1/CollectedData_DJ.h5</td></tr><tr><td>0</td>\n",
       "<td>1</td>\n",
       "<td>from_top_tracking/labeled-data/train1/CollectedData_DJ.csv</td></tr><tr><td>0</td>\n",
       "<td>2</td>\n",
       "<td>from_top_tracking/labeled-data/train1/img00674.png</td></tr><tr><td>0</td>\n",
       "<td>3</td>\n",
       "<td>from_top_tracking/videos/train1.mp4</td> </tr> </tbody>\n",
       "        </table>\n",
       "        \n",
       "        <p>Total: 4</p></div>\n",
       "        "
      ],
      "text/plain": [
       "*video_set_id  *file_id    file_path     \n",
       "+------------+ +---------+ +------------+\n",
       "0              0           from_top_track\n",
       "0              1           from_top_track\n",
       "0              2           from_top_track\n",
       "0              3           from_top_track\n",
       " (Total: 4)"
      ]
     },
     "execution_count": 18,
     "metadata": {},
     "output_type": "execute_result"
    }
   ],
   "source": [
    "train.VideoSet.File()"
   ]
  },
  {
   "cell_type": "markdown",
   "metadata": {
    "tags": []
   },
   "source": [
    "### Training a Network"
   ]
  },
  {
   "cell_type": "markdown",
   "metadata": {},
   "source": [
    "First, we'll add a `ModelTrainingParamSet`. This is a lookup table that we can reference when training a model."
   ]
  },
  {
   "cell_type": "code",
   "execution_count": null,
   "metadata": {},
   "outputs": [
    {
     "data": {
      "text/plain": [
       "paramset_idx         : smallint                     # \n",
       "---\n",
       "paramset_desc        : varchar(128)                 # \n",
       "param_set_hash       : uuid                         # hash identifying this parameterset\n",
       "params               : longblob                     # dictionary of all applicable parameters"
      ]
     },
     "metadata": {},
     "output_type": "display_data"
    }
   ],
   "source": [
    "train.TrainingParamSet.heading"
   ]
  },
  {
   "cell_type": "markdown",
   "metadata": {},
   "source": [
    "The `params` longblob should be a dictionary that captures all items for DeepLabCut's `train_network` function. At minimum, this is the contents of the project's config file, as well as `suffle` and `trainingsetindex`, which are not included in the config. "
   ]
  },
  {
   "cell_type": "code",
   "execution_count": 19,
   "metadata": {},
   "outputs": [
    {
     "name": "stdout",
     "output_type": "stream",
     "text": [
      "Loading DLC 2.2.1.1...\n",
      "DLC loaded in light mode; you cannot use any GUI (labeling, relabeling and standalone GUI)\n",
      "Help on function train_network in module deeplabcut.pose_estimation_tensorflow.training:\n",
      "\n",
      "train_network(config, shuffle=1, trainingsetindex=0, max_snapshots_to_keep=5, displayiters=None, saveiters=None, maxiters=None, allow_growth=True, gputouse=None, autotune=False, keepdeconvweights=True, modelprefix='')\n",
      "    Trains the network with the labels in the training dataset.\n",
      "    \n",
      "    Parameters\n",
      "    ----------\n",
      "    config : string\n",
      "        Full path of the config.yaml file as a string.\n",
      "    \n",
      "    shuffle: int, optional, default=1\n",
      "        Integer value specifying the shuffle index to select for training.\n",
      "    \n",
      "    trainingsetindex: int, optional, default=0\n",
      "        Integer specifying which TrainingsetFraction to use.\n",
      "        Note that TrainingFraction is a list in config.yaml.\n",
      "    \n",
      "    max_snapshots_to_keep: int or None\n",
      "        Sets how many snapshots are kept, i.e. states of the trained network. Every\n",
      "        saving interation many times a snapshot is stored, however only the last\n",
      "        ``max_snapshots_to_keep`` many are kept! If you change this to None, then all\n",
      "        are kept.\n",
      "        See: https://github.com/DeepLabCut/DeepLabCut/issues/8#issuecomment-387404835\n",
      "    \n",
      "    displayiters: optional, default=None\n",
      "        This variable is actually set in ``pose_config.yaml``. However, you can\n",
      "        overwrite it with this hack. Don't use this regularly, just if you are too lazy\n",
      "        to dig out the ``pose_config.yaml`` file for the corresponding project. If\n",
      "        ``None``, the value from there is used, otherwise it is overwritten!\n",
      "    \n",
      "    saveiters: optional, default=None\n",
      "        This variable is actually set in ``pose_config.yaml``. However, you can\n",
      "        overwrite it with this hack. Don't use this regularly, just if you are too lazy\n",
      "        to dig out the ``pose_config.yaml`` file for the corresponding project.\n",
      "        If ``None``, the value from there is used, otherwise it is overwritten!\n",
      "    \n",
      "    maxiters: optional, default=None\n",
      "        This variable is actually set in ``pose_config.yaml``. However, you can\n",
      "        overwrite it with this hack. Don't use this regularly, just if you are too lazy\n",
      "        to dig out the ``pose_config.yaml`` file for the corresponding project.\n",
      "        If ``None``, the value from there is used, otherwise it is overwritten!\n",
      "    \n",
      "    allow_growth: bool, optional, default=True.\n",
      "        For some smaller GPUs the memory issues happen. If ``True``, the memory\n",
      "        allocator does not pre-allocate the entire specified GPU memory region, instead\n",
      "        starting small and growing as needed.\n",
      "        See issue: https://forum.image.sc/t/how-to-stop-running-out-of-vram/30551/2\n",
      "    \n",
      "    gputouse: optional, default=None\n",
      "        Natural number indicating the number of your GPU (see number in nvidia-smi).\n",
      "        If you do not have a GPU put None.\n",
      "        See: https://nvidia.custhelp.com/app/answers/detail/a_id/3751/~/useful-nvidia-smi-queries\n",
      "    \n",
      "    autotune: bool, optional, default=False\n",
      "        Property of TensorFlow, somehow faster if ``False``\n",
      "        (as Eldar found out, see https://github.com/tensorflow/tensorflow/issues/13317).\n",
      "    \n",
      "    keepdeconvweights: bool, optional, default=True\n",
      "        Also restores the weights of the deconvolution layers (and the backbone) when\n",
      "        training from a snapshot. Note that if you change the number of bodyparts, you\n",
      "        need to set this to false for re-training.\n",
      "    \n",
      "    modelprefix: str, optional, default=\"\"\n",
      "        Directory containing the deeplabcut models to use when evaluating the network.\n",
      "        By default, the models are assumed to exist in the project folder.\n",
      "    \n",
      "    Returns\n",
      "    -------\n",
      "    None\n",
      "    \n",
      "    Examples\n",
      "    --------\n",
      "    To train the network for first shuffle of the training dataset\n",
      "    \n",
      "    >>> deeplabcut.train_network('/analysis/project/reaching-task/config.yaml')\n",
      "    \n",
      "    To train the network for second shuffle of the training dataset\n",
      "    \n",
      "    >>> deeplabcut.train_network(\n",
      "            '/analysis/project/reaching-task/config.yaml',\n",
      "            shuffle=2,\n",
      "            keepdeconvweights=True,\n",
      "        )\n",
      "\n"
     ]
    }
   ],
   "source": [
    "from deeplabcut import train_network\n",
    "help(train_network) # for more information on optional parameters"
   ]
  },
  {
   "cell_type": "markdown",
   "metadata": {},
   "source": [
    "Here, we give these items, load the config contents, and overwrite some defaults, including `maxiters`, to restrict our training iterations to 5."
   ]
  },
  {
   "cell_type": "code",
   "execution_count": 20,
   "metadata": {},
   "outputs": [],
   "source": [
    "import yaml\n",
    "\n",
    "paramset_idx = 0; paramset_desc='from_top_tracking'\n",
    "\n",
    "with open(config_path, 'rb') as y:\n",
    "    config_params = yaml.safe_load(y)\n",
    "training_params = {'shuffle': '1',\n",
    "                   'trainingsetindex': '0',\n",
    "                   'maxiters': '5',\n",
    "                   'scorer_legacy': 'False',\n",
    "                   'maxiters': '5', \n",
    "                   'multianimalproject':'False'}\n",
    "config_params.update(training_params)\n",
    "train.TrainingParamSet.insert_new_params(paramset_idx=paramset_idx,\n",
    "                                         paramset_desc=paramset_desc,\n",
    "                                         params=config_params)"
   ]
  },
  {
   "cell_type": "markdown",
   "metadata": {},
   "source": [
    "Now, we add a `TrainingTask`. As a computed table, `ModelTraining` will reference this to start training when calling `populate()`"
   ]
  },
  {
   "cell_type": "code",
   "execution_count": null,
   "metadata": {},
   "outputs": [
    {
     "data": {
      "text/plain": [
       "video_set_id         : int                          # \n",
       "paramset_idx         : smallint                     # \n",
       "training_id          : int                          # \n",
       "---\n",
       "model_prefix=\"\"      : varchar(32)                  # \n",
       "project_path=\"\"      : varchar(255)                 # DLC's project_path in config relative to root"
      ]
     },
     "metadata": {},
     "output_type": "display_data"
    }
   ],
   "source": [
    "train.TrainingTask.heading"
   ]
  },
  {
   "cell_type": "code",
   "execution_count": 22,
   "metadata": {},
   "outputs": [
    {
     "data": {
      "text/html": [
       "\n",
       "    \n",
       "    <style type=\"text/css\">\n",
       "        .Relation{\n",
       "            border-collapse:collapse;\n",
       "        }\n",
       "        .Relation th{\n",
       "            background: #A0A0A0; color: #ffffff; padding:4px; border:#f0e0e0 1px solid;\n",
       "            font-weight: normal; font-family: monospace; font-size: 100%;\n",
       "        }\n",
       "        .Relation td{\n",
       "            padding:4px; border:#f0e0e0 1px solid; font-size:100%;\n",
       "        }\n",
       "        .Relation tr:nth-child(odd){\n",
       "            background: #ffffff;\n",
       "        }\n",
       "        .Relation tr:nth-child(even){\n",
       "            background: #f3f1ff;\n",
       "        }\n",
       "        /* Tooltip container */\n",
       "        .djtooltip {\n",
       "        }\n",
       "        /* Tooltip text */\n",
       "        .djtooltip .djtooltiptext {\n",
       "            visibility: hidden;\n",
       "            width: 120px;\n",
       "            background-color: black;\n",
       "            color: #fff;\n",
       "            text-align: center;\n",
       "            padding: 5px 0;\n",
       "            border-radius: 6px;\n",
       "            /* Position the tooltip text - see examples below! */\n",
       "            position: absolute;\n",
       "            z-index: 1;\n",
       "        }\n",
       "        #primary {\n",
       "            font-weight: bold;\n",
       "            color: black;\n",
       "        }\n",
       "        #nonprimary {\n",
       "            font-weight: normal;\n",
       "            color: white;\n",
       "        }\n",
       "\n",
       "        /* Show the tooltip text when you mouse over the tooltip container */\n",
       "        .djtooltip:hover .djtooltiptext {\n",
       "            visibility: visible;\n",
       "        }\n",
       "    </style>\n",
       "    \n",
       "    <b>Specification for a DLC model training instance</b>\n",
       "        <div style=\"max-height:1000px;max-width:1500px;overflow:auto;\">\n",
       "        <table border=\"1\" class=\"Relation\">\n",
       "            <thead> <tr style=\"text-align: right;\"> <th> <div class=\"djtooltip\">\n",
       "                            <p id=\"primary\">video_set_id</p>\n",
       "                            <span class=\"djtooltiptext\"></span>\n",
       "                        </div></th><th><div class=\"djtooltip\">\n",
       "                            <p id=\"primary\">paramset_idx</p>\n",
       "                            <span class=\"djtooltiptext\"></span>\n",
       "                        </div></th><th><div class=\"djtooltip\">\n",
       "                            <p id=\"primary\">training_id</p>\n",
       "                            <span class=\"djtooltiptext\"></span>\n",
       "                        </div></th><th><div class=\"djtooltip\">\n",
       "                            <p id=\"nonprimary\">model_prefix</p>\n",
       "                            <span class=\"djtooltiptext\"></span>\n",
       "                        </div></th><th><div class=\"djtooltip\">\n",
       "                            <p id=\"nonprimary\">project_path</p>\n",
       "                            <span class=\"djtooltiptext\">DLC's project_path in config relative to root</span>\n",
       "                        </div> </th> </tr> </thead>\n",
       "            <tbody> <tr> <td>0</td>\n",
       "<td>0</td>\n",
       "<td>1</td>\n",
       "<td></td>\n",
       "<td>from_top_tracking/</td> </tr> </tbody>\n",
       "        </table>\n",
       "        \n",
       "        <p>Total: 1</p></div>\n",
       "        "
      ],
      "text/plain": [
       "*video_set_id  *paramset_idx  *training_id   model_prefix   project_path  \n",
       "+------------+ +------------+ +------------+ +------------+ +------------+\n",
       "0              0              1                             from_top_track\n",
       " (Total: 1)"
      ]
     },
     "execution_count": 22,
     "metadata": {},
     "output_type": "execute_result"
    }
   ],
   "source": [
    "key={'video_set_id': 0,\n",
    "     'paramset_idx':0,\n",
    "     'training_id': 1,\n",
    "     'project_path':'from_top_tracking/'\n",
    "     }\n",
    "train.TrainingTask.insert1(key, skip_duplicates=True)\n",
    "train.TrainingTask()"
   ]
  },
  {
   "cell_type": "code",
   "execution_count": null,
   "metadata": {
    "tags": []
   },
   "outputs": [],
   "source": [
    "train.ModelTraining.populate()"
   ]
  },
  {
   "cell_type": "markdown",
   "metadata": {},
   "source": [
    "(Output cleared for brevity)\n",
    "```\n",
    "The network is now trained and ready to evaluate. Use the function 'evaluate_network' to evaluate the network.\n",
    "```"
   ]
  },
  {
   "cell_type": "code",
   "execution_count": 24,
   "metadata": {},
   "outputs": [
    {
     "data": {
      "text/html": [
       "\n",
       "    \n",
       "    <style type=\"text/css\">\n",
       "        .Relation{\n",
       "            border-collapse:collapse;\n",
       "        }\n",
       "        .Relation th{\n",
       "            background: #A0A0A0; color: #ffffff; padding:4px; border:#f0e0e0 1px solid;\n",
       "            font-weight: normal; font-family: monospace; font-size: 100%;\n",
       "        }\n",
       "        .Relation td{\n",
       "            padding:4px; border:#f0e0e0 1px solid; font-size:100%;\n",
       "        }\n",
       "        .Relation tr:nth-child(odd){\n",
       "            background: #ffffff;\n",
       "        }\n",
       "        .Relation tr:nth-child(even){\n",
       "            background: #f3f1ff;\n",
       "        }\n",
       "        /* Tooltip container */\n",
       "        .djtooltip {\n",
       "        }\n",
       "        /* Tooltip text */\n",
       "        .djtooltip .djtooltiptext {\n",
       "            visibility: hidden;\n",
       "            width: 120px;\n",
       "            background-color: black;\n",
       "            color: #fff;\n",
       "            text-align: center;\n",
       "            padding: 5px 0;\n",
       "            border-radius: 6px;\n",
       "            /* Position the tooltip text - see examples below! */\n",
       "            position: absolute;\n",
       "            z-index: 1;\n",
       "        }\n",
       "        #primary {\n",
       "            font-weight: bold;\n",
       "            color: black;\n",
       "        }\n",
       "        #nonprimary {\n",
       "            font-weight: normal;\n",
       "            color: white;\n",
       "        }\n",
       "\n",
       "        /* Show the tooltip text when you mouse over the tooltip container */\n",
       "        .djtooltip:hover .djtooltiptext {\n",
       "            visibility: visible;\n",
       "        }\n",
       "    </style>\n",
       "    \n",
       "    <b></b>\n",
       "        <div style=\"max-height:1000px;max-width:1500px;overflow:auto;\">\n",
       "        <table border=\"1\" class=\"Relation\">\n",
       "            <thead> <tr style=\"text-align: right;\"> <th> <div class=\"djtooltip\">\n",
       "                            <p id=\"primary\">video_set_id</p>\n",
       "                            <span class=\"djtooltiptext\"></span>\n",
       "                        </div></th><th><div class=\"djtooltip\">\n",
       "                            <p id=\"primary\">paramset_idx</p>\n",
       "                            <span class=\"djtooltiptext\"></span>\n",
       "                        </div></th><th><div class=\"djtooltip\">\n",
       "                            <p id=\"primary\">training_id</p>\n",
       "                            <span class=\"djtooltiptext\"></span>\n",
       "                        </div></th><th><div class=\"djtooltip\">\n",
       "                            <p id=\"nonprimary\">latest_snapshot</p>\n",
       "                            <span class=\"djtooltiptext\">latest exact snapshot index (i.e., never -1)</span>\n",
       "                        </div></th><th><div class=\"djtooltip\">\n",
       "                            <p id=\"nonprimary\">config_template</p>\n",
       "                            <span class=\"djtooltiptext\">stored full config file</span>\n",
       "                        </div> </th> </tr> </thead>\n",
       "            <tbody> <tr> <td>0</td>\n",
       "<td>0</td>\n",
       "<td>1</td>\n",
       "<td>5</td>\n",
       "<td>=BLOB=</td> </tr> </tbody>\n",
       "        </table>\n",
       "        \n",
       "        <p>Total: 1</p></div>\n",
       "        "
      ],
      "text/plain": [
       "*video_set_id  *paramset_idx  *training_id   latest_snapsho config_tem\n",
       "+------------+ +------------+ +------------+ +------------+ +--------+\n",
       "0              0              1              5              =BLOB=    \n",
       " (Total: 1)"
      ]
     },
     "execution_count": 24,
     "metadata": {},
     "output_type": "execute_result"
    }
   ],
   "source": [
    "train.ModelTraining()"
   ]
  },
  {
   "cell_type": "markdown",
   "metadata": {},
   "source": [
    "To resume training from a checkpoint, we would need to \n",
    "[edit the relevant config file](https://github.com/DeepLabCut/DeepLabCut/issues/70) (see also `update_pose_cfg` in `workflow_deeplabcut.load_demo_data`).\n",
    "Emperical work suggests 200k iterations for any true use-case.\n",
    "\n",
    "For better quality predictions in this demo, we'll revert the checkpoint file and use a pretrained model."
   ]
  },
  {
   "cell_type": "code",
   "execution_count": 25,
   "metadata": {},
   "outputs": [],
   "source": [
    "from workflow_deeplabcut.load_demo_data import revert_checkpoint_file\n",
    "revert_checkpoint_file()"
   ]
  },
  {
   "cell_type": "markdown",
   "metadata": {
    "jp-MarkdownHeadingCollapsed": true,
    "tags": []
   },
   "source": [
    "### Tracking Joints/Body Parts"
   ]
  },
  {
   "cell_type": "markdown",
   "metadata": {},
   "source": [
    "The `model` schema uses a lookup table for managing Body Parts tracked across models."
   ]
  },
  {
   "cell_type": "code",
   "execution_count": null,
   "metadata": {},
   "outputs": [
    {
     "data": {
      "text/plain": [
       "# \n",
       "body_part            : varchar(32)                  # \n",
       "---\n",
       "body_part_description=\"\" : varchar(1000)                # "
      ]
     },
     "metadata": {},
     "output_type": "display_data"
    }
   ],
   "source": [
    "model.BodyPart.heading"
   ]
  },
  {
   "cell_type": "markdown",
   "metadata": {},
   "source": [
    "Helper functions allow us to first, identify all the new body parts from a given config, and, second, insert them with user-friendly descriptions."
   ]
  },
  {
   "cell_type": "code",
   "execution_count": 26,
   "metadata": {},
   "outputs": [
    {
     "name": "stdout",
     "output_type": "stream",
     "text": [
      "Existing body parts: ['bodycenter' 'head' 'tailbase']\n",
      "New body parts: []\n"
     ]
    },
    {
     "data": {
      "text/plain": [
       "array([], dtype='<U10')"
      ]
     },
     "execution_count": 26,
     "metadata": {},
     "output_type": "execute_result"
    }
   ],
   "source": [
    "model.BodyPart.extract_new_body_parts(config_path)"
   ]
  },
  {
   "cell_type": "code",
   "execution_count": 31,
   "metadata": {},
   "outputs": [
    {
     "name": "stdout",
     "output_type": "stream",
     "text": [
      "Existing body parts: []\n",
      "New body parts: ['bodycenter' 'head' 'tailbase']\n",
      "New descriptions: ['Body Center', 'Head', 'Base of Tail']\n"
     ]
    }
   ],
   "source": [
    "bp_desc=['Body Center', 'Head', 'Base of Tail']\n",
    "model.BodyPart.insert_from_config(config_path,bp_desc)"
   ]
  },
  {
   "cell_type": "markdown",
   "metadata": {
    "jp-MarkdownHeadingCollapsed": true,
    "tags": []
   },
   "source": [
    "### Declaring/Evaluating a Model"
   ]
  },
  {
   "cell_type": "markdown",
   "metadata": {},
   "source": [
    "We can insert into `Model` table for automatic evaluation"
   ]
  },
  {
   "cell_type": "code",
   "execution_count": 33,
   "metadata": {},
   "outputs": [
    {
     "name": "stdout",
     "output_type": "stream",
     "text": [
      "--- DLC Model specification to be inserted ---\n",
      "\tmodel_name: FromTop-latest\n",
      "\tmodel_description: FromTop - latest snapshot\n",
      "\tscorer: DLCmobnet100fromtoptrackingFeb23shuffle1\n",
      "\ttask: from_top_tracking\n",
      "\tdate: Feb23\n",
      "\titeration: 0\n",
      "\tsnapshotindex: -1\n",
      "\tshuffle: 1\n",
      "\ttrainingsetindex: 0\n",
      "\tproject_path: from_top_tracking\n",
      "\tparamset_idx: 0\n",
      "\t-- Template/Contents of config.yaml --\n",
      "\t\tTask: from_top_tracking\n",
      "\t\tscorer: DJ\n",
      "\t\tdate: Feb23\n",
      "\t\tvideo_sets: {'/tmp/test_data/from_top_tracking/videos/train1.mp4': {'crop': '0, 500, 0, 500'}}\n",
      "\t\tbodyparts: ['head', 'bodycenter', 'tailbase']\n",
      "\t\tstart: 0\n",
      "\t\tstop: 1\n",
      "\t\tnumframes2pick: 20\n",
      "\t\tpcutoff: 0.6\n",
      "\t\tdotsize: 3\n",
      "\t\talphavalue: 0.7\n",
      "\t\tcolormap: viridis\n",
      "\t\tTrainingFraction: [0.95]\n",
      "\t\titeration: 0\n",
      "\t\tdefault_net_type: resnet_50\n",
      "\t\tsnapshotindex: -1\n",
      "\t\tbatch_size: 8\n",
      "\t\tcropping: False\n",
      "\t\tx1: 0\n",
      "\t\tx2: 640\n",
      "\t\ty1: 277\n",
      "\t\ty2: 624\n",
      "\t\tcorner2move2: [50, 50]\n",
      "\t\tmove2corner: True\n",
      "\t\tcroppedtraining: None\n",
      "\t\tdefault_augmenter: default\n",
      "\t\tidentity: None\n",
      "\t\tmaxiters: 5\n",
      "\t\tmodelprefix: \n",
      "\t\tmultianimalproject: False\n",
      "\t\tscorer_legacy: False\n",
      "\t\tshuffle: 1\n",
      "\t\tskeleton: [['bodypart1', 'bodypart2'], ['objectA', 'bodypart3']]\n",
      "\t\tskeleton_color: black\n",
      "\t\ttrain_fraction: 0.95\n",
      "\t\ttrainingsetindex: 0\n",
      "\t\tproject_path: /tmp/test_data/from_top_tracking\n"
     ]
    }
   ],
   "source": [
    "model.Model.insert_new_model(model_name='FromTop-latest',dlc_config=config_path,\n",
    "                             shuffle=1,trainingsetindex=0,\n",
    "                             model_description='FromTop - latest snapshot',\n",
    "                             paramset_idx=0,\n",
    "                             params={\"snapshotindex\":-1})"
   ]
  },
  {
   "cell_type": "code",
   "execution_count": 34,
   "metadata": {},
   "outputs": [
    {
     "data": {
      "text/html": [
       "\n",
       "    \n",
       "    <style type=\"text/css\">\n",
       "        .Relation{\n",
       "            border-collapse:collapse;\n",
       "        }\n",
       "        .Relation th{\n",
       "            background: #A0A0A0; color: #ffffff; padding:4px; border:#f0e0e0 1px solid;\n",
       "            font-weight: normal; font-family: monospace; font-size: 100%;\n",
       "        }\n",
       "        .Relation td{\n",
       "            padding:4px; border:#f0e0e0 1px solid; font-size:100%;\n",
       "        }\n",
       "        .Relation tr:nth-child(odd){\n",
       "            background: #ffffff;\n",
       "        }\n",
       "        .Relation tr:nth-child(even){\n",
       "            background: #f3f1ff;\n",
       "        }\n",
       "        /* Tooltip container */\n",
       "        .djtooltip {\n",
       "        }\n",
       "        /* Tooltip text */\n",
       "        .djtooltip .djtooltiptext {\n",
       "            visibility: hidden;\n",
       "            width: 120px;\n",
       "            background-color: black;\n",
       "            color: #fff;\n",
       "            text-align: center;\n",
       "            padding: 5px 0;\n",
       "            border-radius: 6px;\n",
       "            /* Position the tooltip text - see examples below! */\n",
       "            position: absolute;\n",
       "            z-index: 1;\n",
       "        }\n",
       "        #primary {\n",
       "            font-weight: bold;\n",
       "            color: black;\n",
       "        }\n",
       "        #nonprimary {\n",
       "            font-weight: normal;\n",
       "            color: white;\n",
       "        }\n",
       "\n",
       "        /* Show the tooltip text when you mouse over the tooltip container */\n",
       "        .djtooltip:hover .djtooltiptext {\n",
       "            visibility: visible;\n",
       "        }\n",
       "    </style>\n",
       "    \n",
       "    <b></b>\n",
       "        <div style=\"max-height:1000px;max-width:1500px;overflow:auto;\">\n",
       "        <table border=\"1\" class=\"Relation\">\n",
       "            <thead> <tr style=\"text-align: right;\"> <th> <div class=\"djtooltip\">\n",
       "                            <p id=\"primary\">model_name</p>\n",
       "                            <span class=\"djtooltiptext\">User-friendly model name</span>\n",
       "                        </div></th><th><div class=\"djtooltip\">\n",
       "                            <p id=\"nonprimary\">task</p>\n",
       "                            <span class=\"djtooltiptext\">Task in the config yaml</span>\n",
       "                        </div></th><th><div class=\"djtooltip\">\n",
       "                            <p id=\"nonprimary\">date</p>\n",
       "                            <span class=\"djtooltiptext\">Date in the config yaml</span>\n",
       "                        </div></th><th><div class=\"djtooltip\">\n",
       "                            <p id=\"nonprimary\">iteration</p>\n",
       "                            <span class=\"djtooltiptext\">Iteration/version of this model</span>\n",
       "                        </div></th><th><div class=\"djtooltip\">\n",
       "                            <p id=\"nonprimary\">snapshotindex</p>\n",
       "                            <span class=\"djtooltiptext\">which snapshot for prediction (if -1, latest)</span>\n",
       "                        </div></th><th><div class=\"djtooltip\">\n",
       "                            <p id=\"nonprimary\">shuffle</p>\n",
       "                            <span class=\"djtooltiptext\">Shuffle (1) or not (0)</span>\n",
       "                        </div></th><th><div class=\"djtooltip\">\n",
       "                            <p id=\"nonprimary\">trainingsetindex</p>\n",
       "                            <span class=\"djtooltiptext\">Index of training fraction list in config.yaml</span>\n",
       "                        </div></th><th><div class=\"djtooltip\">\n",
       "                            <p id=\"nonprimary\">scorer</p>\n",
       "                            <span class=\"djtooltiptext\">Scorer/network name - DLC's GetScorerName()</span>\n",
       "                        </div></th><th><div class=\"djtooltip\">\n",
       "                            <p id=\"nonprimary\">config_template</p>\n",
       "                            <span class=\"djtooltiptext\">Dictionary of the config for analyze_videos()</span>\n",
       "                        </div></th><th><div class=\"djtooltip\">\n",
       "                            <p id=\"nonprimary\">project_path</p>\n",
       "                            <span class=\"djtooltiptext\">DLC's project_path in config relative to root</span>\n",
       "                        </div></th><th><div class=\"djtooltip\">\n",
       "                            <p id=\"nonprimary\">model_prefix</p>\n",
       "                            <span class=\"djtooltiptext\"></span>\n",
       "                        </div></th><th><div class=\"djtooltip\">\n",
       "                            <p id=\"nonprimary\">model_description</p>\n",
       "                            <span class=\"djtooltiptext\"></span>\n",
       "                        </div></th><th><div class=\"djtooltip\">\n",
       "                            <p id=\"nonprimary\">paramset_idx</p>\n",
       "                            <span class=\"djtooltiptext\"></span>\n",
       "                        </div> </th> </tr> </thead>\n",
       "            <tbody> <tr> <td>FromTop-latest</td>\n",
       "<td>from_top_tracking</td>\n",
       "<td>Feb23</td>\n",
       "<td>0</td>\n",
       "<td>-1</td>\n",
       "<td>1</td>\n",
       "<td>0</td>\n",
       "<td>DLCmobnet100fromtoptrackingFeb23shuffle1</td>\n",
       "<td>=BLOB=</td>\n",
       "<td>from_top_tracking</td>\n",
       "<td></td>\n",
       "<td>FromTop - latest snapshot</td>\n",
       "<td>0</td> </tr> </tbody>\n",
       "        </table>\n",
       "        \n",
       "        <p>Total: 1</p></div>\n",
       "        "
      ],
      "text/plain": [
       "*model_name    task           date      iteration     snapshotindex  shuffle     trainingsetind scorer         config_tem project_path   model_prefix   model_descript paramset_idx  \n",
       "+------------+ +------------+ +-------+ +-----------+ +------------+ +---------+ +------------+ +------------+ +--------+ +------------+ +------------+ +------------+ +------------+\n",
       "FromTop-latest from_top_track Feb23     0             -1             1           0              DLCmobnet100fr =BLOB=     from_top_track                FromTop - late 0             \n",
       " (Total: 1)"
      ]
     },
     "execution_count": 34,
     "metadata": {},
     "output_type": "execute_result"
    }
   ],
   "source": [
    "model.Model()"
   ]
  },
  {
   "cell_type": "markdown",
   "metadata": {},
   "source": [
    "`ModelEvaluation` will reference the `Model` using the `populate` method and insert the  output from DeepLabCut's `evaluate_network` function"
   ]
  },
  {
   "cell_type": "code",
   "execution_count": null,
   "metadata": {},
   "outputs": [
    {
     "data": {
      "text/plain": [
       "model_name           : varchar(64)                  # user-friendly model name\n",
       "---\n",
       "train_iterations     : int                          # Training iterations\n",
       "train_error=null     : float                        # Train error (px)\n",
       "test_error=null      : float                        # Test error (px)\n",
       "p_cutoff=null        : float                        # p-cutoff used\n",
       "train_error_p=null   : float                        # Train error with p-cutoff\n",
       "test_error_p=null    : float                        # Test error with p-cutoff"
      ]
     },
     "metadata": {},
     "output_type": "display_data"
    }
   ],
   "source": [
    "model.ModelEvaluation.heading"
   ]
  },
  {
   "cell_type": "code",
   "execution_count": 35,
   "metadata": {},
   "outputs": [
    {
     "name": "stderr",
     "output_type": "stream",
     "text": [
      "Config:\n",
      "{'all_joints': [[0], [1], [2]],\n",
      " 'all_joints_names': ['head', 'bodycenter', 'tailbase'],\n",
      " 'batch_size': 1,\n",
      " 'crop_pad': 0,\n",
      " 'dataset': 'training-datasets/iteration-0/UnaugmentedDataSet_from_top_trackingFeb23/from_top_tracking_DJ95shuffle1.mat',\n",
      " 'dataset_type': 'imgaug',\n",
      " 'deterministic': False,\n",
      " 'fg_fraction': 0.25,\n",
      " 'global_scale': 0.8,\n",
      " 'init_weights': '/Volumes/GoogleDrive/My '\n",
      "                 'Drive/ref/DeepLabCut/deeplabcut/pose_estimation_tensorflow/models/pretrained/mobilenet_v2_1.0_224.ckpt',\n",
      " 'intermediate_supervision': False,\n",
      " 'intermediate_supervision_layer': 12,\n",
      " 'location_refinement': True,\n",
      " 'locref_huber_loss': True,\n",
      " 'locref_loss_weight': 1.0,\n",
      " 'locref_stdev': 7.2801,\n",
      " 'log_dir': 'log',\n",
      " 'mean_pixel': [123.68, 116.779, 103.939],\n",
      " 'mirror': False,\n",
      " 'net_type': 'mobilenet_v2_1.0',\n",
      " 'num_joints': 3,\n",
      " 'optimizer': 'sgd',\n",
      " 'pairwise_huber_loss': True,\n",
      " 'pairwise_predict': False,\n",
      " 'partaffinityfield_predict': False,\n",
      " 'regularize': False,\n",
      " 'scoremap_dir': 'test',\n",
      " 'shuffle': True,\n",
      " 'snapshot_prefix': '/tmp/test_data/from_top_tracking/dlc-models/iteration-0/from_top_trackingFeb23-trainset95shuffle1/test/snapshot',\n",
      " 'stride': 8.0,\n",
      " 'weigh_negatives': False,\n",
      " 'weigh_only_present_joints': False,\n",
      " 'weigh_part_predictions': False,\n",
      " 'weight_decay': 0.0001}\n",
      "/Users/cb/miniconda3/envs/ele/lib/python3.8/site-packages/tensorflow/python/keras/engine/base_layer_v1.py:1694: UserWarning: `layer.apply` is deprecated and will be removed in a future version. Please use `layer.__call__` method instead.\n",
      "  warnings.warn('`layer.apply` is deprecated and '\n"
     ]
    },
    {
     "name": "stdout",
     "output_type": "stream",
     "text": [
      "Running  DLC_mobnet_100_from_top_trackingFeb23shuffle1_103000  with # of training iterations: 103000\n",
      "Running evaluation ...\n"
     ]
    },
    {
     "name": "stderr",
     "output_type": "stream",
     "text": [
      "20it [00:06,  3.29it/s]\n"
     ]
    },
    {
     "name": "stdout",
     "output_type": "stream",
     "text": [
      "Analysis is done and the results are stored (see evaluation-results) for snapshot:  snapshot-103000\n",
      "Results for 103000  training iterations: 95 1 train error: 9.28 pixels. Test error: 9.84  pixels.\n",
      "With pcutoff of 0.6  train error: 9.28 pixels. Test error: 9.84 pixels\n",
      "Thereby, the errors are given by the average distances between the labels by DLC and the scorer.\n",
      "The network is evaluated and the results are stored in the subdirectory 'evaluation_results'.\n",
      "Please check the results, then choose the best model (snapshot) for prediction. You can update the config.yaml file with the appropriate index for the 'snapshotindex'.\n",
      "Use the function 'analyze_video' to make predictions on new videos.\n",
      "Otherwise, consider adding more labeled-data and retraining the network (see DeepLabCut workflow Fig 2, Nath 2019)\n"
     ]
    }
   ],
   "source": [
    "model.ModelEvaluation.populate()"
   ]
  },
  {
   "cell_type": "code",
   "execution_count": 36,
   "metadata": {},
   "outputs": [
    {
     "data": {
      "text/html": [
       "\n",
       "    \n",
       "    <style type=\"text/css\">\n",
       "        .Relation{\n",
       "            border-collapse:collapse;\n",
       "        }\n",
       "        .Relation th{\n",
       "            background: #A0A0A0; color: #ffffff; padding:4px; border:#f0e0e0 1px solid;\n",
       "            font-weight: normal; font-family: monospace; font-size: 100%;\n",
       "        }\n",
       "        .Relation td{\n",
       "            padding:4px; border:#f0e0e0 1px solid; font-size:100%;\n",
       "        }\n",
       "        .Relation tr:nth-child(odd){\n",
       "            background: #ffffff;\n",
       "        }\n",
       "        .Relation tr:nth-child(even){\n",
       "            background: #f3f1ff;\n",
       "        }\n",
       "        /* Tooltip container */\n",
       "        .djtooltip {\n",
       "        }\n",
       "        /* Tooltip text */\n",
       "        .djtooltip .djtooltiptext {\n",
       "            visibility: hidden;\n",
       "            width: 120px;\n",
       "            background-color: black;\n",
       "            color: #fff;\n",
       "            text-align: center;\n",
       "            padding: 5px 0;\n",
       "            border-radius: 6px;\n",
       "            /* Position the tooltip text - see examples below! */\n",
       "            position: absolute;\n",
       "            z-index: 1;\n",
       "        }\n",
       "        #primary {\n",
       "            font-weight: bold;\n",
       "            color: black;\n",
       "        }\n",
       "        #nonprimary {\n",
       "            font-weight: normal;\n",
       "            color: white;\n",
       "        }\n",
       "\n",
       "        /* Show the tooltip text when you mouse over the tooltip container */\n",
       "        .djtooltip:hover .djtooltiptext {\n",
       "            visibility: visible;\n",
       "        }\n",
       "    </style>\n",
       "    \n",
       "    <b></b>\n",
       "        <div style=\"max-height:1000px;max-width:1500px;overflow:auto;\">\n",
       "        <table border=\"1\" class=\"Relation\">\n",
       "            <thead> <tr style=\"text-align: right;\"> <th> <div class=\"djtooltip\">\n",
       "                            <p id=\"primary\">model_name</p>\n",
       "                            <span class=\"djtooltiptext\">User-friendly model name</span>\n",
       "                        </div></th><th><div class=\"djtooltip\">\n",
       "                            <p id=\"nonprimary\">train_iterations</p>\n",
       "                            <span class=\"djtooltiptext\">Training iterations</span>\n",
       "                        </div></th><th><div class=\"djtooltip\">\n",
       "                            <p id=\"nonprimary\">train_error</p>\n",
       "                            <span class=\"djtooltiptext\">Train error (px)</span>\n",
       "                        </div></th><th><div class=\"djtooltip\">\n",
       "                            <p id=\"nonprimary\">test_error</p>\n",
       "                            <span class=\"djtooltiptext\">Test error (px)</span>\n",
       "                        </div></th><th><div class=\"djtooltip\">\n",
       "                            <p id=\"nonprimary\">p_cutoff</p>\n",
       "                            <span class=\"djtooltiptext\">p-cutoff used</span>\n",
       "                        </div></th><th><div class=\"djtooltip\">\n",
       "                            <p id=\"nonprimary\">train_error_p</p>\n",
       "                            <span class=\"djtooltiptext\">Train error with p-cutoff</span>\n",
       "                        </div></th><th><div class=\"djtooltip\">\n",
       "                            <p id=\"nonprimary\">test_error_p</p>\n",
       "                            <span class=\"djtooltiptext\">Test error with p-cutoff</span>\n",
       "                        </div> </th> </tr> </thead>\n",
       "            <tbody> <tr> <td>FromTop-latest</td>\n",
       "<td>103000</td>\n",
       "<td>9.28</td>\n",
       "<td>9.84</td>\n",
       "<td>0.6</td>\n",
       "<td>9.28</td>\n",
       "<td>9.84</td> </tr> </tbody>\n",
       "        </table>\n",
       "        \n",
       "        <p>Total: 1</p></div>\n",
       "        "
      ],
      "text/plain": [
       "*model_name    train_iteratio train_error    test_error     p_cutoff     train_error_p  test_error_p  \n",
       "+------------+ +------------+ +------------+ +------------+ +----------+ +------------+ +------------+\n",
       "FromTop-latest 103000         9.28           9.84           0.6          9.28           9.84          \n",
       " (Total: 1)"
      ]
     },
     "execution_count": 36,
     "metadata": {},
     "output_type": "execute_result"
    }
   ],
   "source": [
    "model.ModelEvaluation()"
   ]
  },
  {
   "cell_type": "markdown",
   "metadata": {},
   "source": [
    "### Pose Estimation"
   ]
  },
  {
   "cell_type": "markdown",
   "metadata": {},
   "source": [
    "To use our model, we'll first need to insert a session recoring into `VideoRecording`"
   ]
  },
  {
   "cell_type": "code",
   "execution_count": 39,
   "metadata": {},
   "outputs": [
    {
     "data": {
      "text/html": [
       "\n",
       "    \n",
       "    <style type=\"text/css\">\n",
       "        .Relation{\n",
       "            border-collapse:collapse;\n",
       "        }\n",
       "        .Relation th{\n",
       "            background: #A0A0A0; color: #ffffff; padding:4px; border:#f0e0e0 1px solid;\n",
       "            font-weight: normal; font-family: monospace; font-size: 100%;\n",
       "        }\n",
       "        .Relation td{\n",
       "            padding:4px; border:#f0e0e0 1px solid; font-size:100%;\n",
       "        }\n",
       "        .Relation tr:nth-child(odd){\n",
       "            background: #ffffff;\n",
       "        }\n",
       "        .Relation tr:nth-child(even){\n",
       "            background: #f3f1ff;\n",
       "        }\n",
       "        /* Tooltip container */\n",
       "        .djtooltip {\n",
       "        }\n",
       "        /* Tooltip text */\n",
       "        .djtooltip .djtooltiptext {\n",
       "            visibility: hidden;\n",
       "            width: 120px;\n",
       "            background-color: black;\n",
       "            color: #fff;\n",
       "            text-align: center;\n",
       "            padding: 5px 0;\n",
       "            border-radius: 6px;\n",
       "            /* Position the tooltip text - see examples below! */\n",
       "            position: absolute;\n",
       "            z-index: 1;\n",
       "        }\n",
       "        #primary {\n",
       "            font-weight: bold;\n",
       "            color: black;\n",
       "        }\n",
       "        #nonprimary {\n",
       "            font-weight: normal;\n",
       "            color: white;\n",
       "        }\n",
       "\n",
       "        /* Show the tooltip text when you mouse over the tooltip container */\n",
       "        .djtooltip:hover .djtooltiptext {\n",
       "            visibility: visible;\n",
       "        }\n",
       "    </style>\n",
       "    \n",
       "    <b></b>\n",
       "        <div style=\"max-height:1000px;max-width:1500px;overflow:auto;\">\n",
       "        <table border=\"1\" class=\"Relation\">\n",
       "            <thead> <tr style=\"text-align: right;\"> <th> <div class=\"djtooltip\">\n",
       "                            <p id=\"primary\">subject</p>\n",
       "                            <span class=\"djtooltiptext\"></span>\n",
       "                        </div></th><th><div class=\"djtooltip\">\n",
       "                            <p id=\"primary\">session_datetime</p>\n",
       "                            <span class=\"djtooltiptext\"></span>\n",
       "                        </div></th><th><div class=\"djtooltip\">\n",
       "                            <p id=\"primary\">recording_id</p>\n",
       "                            <span class=\"djtooltiptext\"></span>\n",
       "                        </div></th><th><div class=\"djtooltip\">\n",
       "                            <p id=\"nonprimary\">device</p>\n",
       "                            <span class=\"djtooltiptext\"></span>\n",
       "                        </div> </th> </tr> </thead>\n",
       "            <tbody> <tr>  </tr> </tbody>\n",
       "        </table>\n",
       "        \n",
       "        <p>Total: 0</p></div>\n",
       "        "
      ],
      "text/plain": [
       "*subject    *session_datet *recording_id  device    \n",
       "+---------+ +------------+ +------------+ +--------+\n",
       "\n",
       " (Total: 0)"
      ]
     },
     "execution_count": 39,
     "metadata": {},
     "output_type": "execute_result"
    }
   ],
   "source": [
    "model.VideoRecording()"
   ]
  },
  {
   "cell_type": "code",
   "execution_count": 40,
   "metadata": {},
   "outputs": [],
   "source": [
    "key = {'subject': 'subject6',\n",
    "       'session_datetime': '2021-06-02 14:04:22',\n",
    "       'recording_id': '1', 'device': 'Camera1'}\n",
    "model.VideoRecording.insert1(key)\n",
    "\n",
    "_ = key.pop('device') # get rid of secondary key from master table\n",
    "key.update({'file_id': 1, \n",
    "            'file_path': 'from_top_tracking/videos/test-2s.mp4'})\n",
    "model.VideoRecording.File.insert1(key)"
   ]
  },
  {
   "cell_type": "code",
   "execution_count": 41,
   "metadata": {},
   "outputs": [
    {
     "data": {
      "text/html": [
       "\n",
       "    \n",
       "    <style type=\"text/css\">\n",
       "        .Relation{\n",
       "            border-collapse:collapse;\n",
       "        }\n",
       "        .Relation th{\n",
       "            background: #A0A0A0; color: #ffffff; padding:4px; border:#f0e0e0 1px solid;\n",
       "            font-weight: normal; font-family: monospace; font-size: 100%;\n",
       "        }\n",
       "        .Relation td{\n",
       "            padding:4px; border:#f0e0e0 1px solid; font-size:100%;\n",
       "        }\n",
       "        .Relation tr:nth-child(odd){\n",
       "            background: #ffffff;\n",
       "        }\n",
       "        .Relation tr:nth-child(even){\n",
       "            background: #f3f1ff;\n",
       "        }\n",
       "        /* Tooltip container */\n",
       "        .djtooltip {\n",
       "        }\n",
       "        /* Tooltip text */\n",
       "        .djtooltip .djtooltiptext {\n",
       "            visibility: hidden;\n",
       "            width: 120px;\n",
       "            background-color: black;\n",
       "            color: #fff;\n",
       "            text-align: center;\n",
       "            padding: 5px 0;\n",
       "            border-radius: 6px;\n",
       "            /* Position the tooltip text - see examples below! */\n",
       "            position: absolute;\n",
       "            z-index: 1;\n",
       "        }\n",
       "        #primary {\n",
       "            font-weight: bold;\n",
       "            color: black;\n",
       "        }\n",
       "        #nonprimary {\n",
       "            font-weight: normal;\n",
       "            color: white;\n",
       "        }\n",
       "\n",
       "        /* Show the tooltip text when you mouse over the tooltip container */\n",
       "        .djtooltip:hover .djtooltiptext {\n",
       "            visibility: visible;\n",
       "        }\n",
       "    </style>\n",
       "    \n",
       "    <b></b>\n",
       "        <div style=\"max-height:1000px;max-width:1500px;overflow:auto;\">\n",
       "        <table border=\"1\" class=\"Relation\">\n",
       "            <thead> <tr style=\"text-align: right;\"> <th> <div class=\"djtooltip\">\n",
       "                            <p id=\"primary\">subject</p>\n",
       "                            <span class=\"djtooltiptext\"></span>\n",
       "                        </div></th><th><div class=\"djtooltip\">\n",
       "                            <p id=\"primary\">session_datetime</p>\n",
       "                            <span class=\"djtooltiptext\"></span>\n",
       "                        </div></th><th><div class=\"djtooltip\">\n",
       "                            <p id=\"primary\">recording_id</p>\n",
       "                            <span class=\"djtooltiptext\"></span>\n",
       "                        </div></th><th><div class=\"djtooltip\">\n",
       "                            <p id=\"primary\">file_id</p>\n",
       "                            <span class=\"djtooltiptext\"></span>\n",
       "                        </div></th><th><div class=\"djtooltip\">\n",
       "                            <p id=\"nonprimary\">file_path</p>\n",
       "                            <span class=\"djtooltiptext\">filepath of video, relative to root data directory</span>\n",
       "                        </div> </th> </tr> </thead>\n",
       "            <tbody> <tr> <td>subject6</td>\n",
       "<td>2021-06-02 14:04:22</td>\n",
       "<td>1</td>\n",
       "<td>1</td>\n",
       "<td>from_top_tracking/videos/test-2s.mp4</td> </tr> </tbody>\n",
       "        </table>\n",
       "        \n",
       "        <p>Total: 1</p></div>\n",
       "        "
      ],
      "text/plain": [
       "*subject     *session_datet *recording_id  *file_id    file_path     \n",
       "+----------+ +------------+ +------------+ +---------+ +------------+\n",
       "subject6     2021-06-02 14: 1              1           from_top_track\n",
       " (Total: 1)"
      ]
     },
     "execution_count": 41,
     "metadata": {},
     "output_type": "execute_result"
    }
   ],
   "source": [
    "model.VideoRecording.File()"
   ]
  },
  {
   "cell_type": "markdown",
   "metadata": {},
   "source": [
    "`RecordingInfo` automatically populates with file information"
   ]
  },
  {
   "cell_type": "code",
   "execution_count": 42,
   "metadata": {},
   "outputs": [
    {
     "data": {
      "text/html": [
       "\n",
       "    \n",
       "    <style type=\"text/css\">\n",
       "        .Relation{\n",
       "            border-collapse:collapse;\n",
       "        }\n",
       "        .Relation th{\n",
       "            background: #A0A0A0; color: #ffffff; padding:4px; border:#f0e0e0 1px solid;\n",
       "            font-weight: normal; font-family: monospace; font-size: 100%;\n",
       "        }\n",
       "        .Relation td{\n",
       "            padding:4px; border:#f0e0e0 1px solid; font-size:100%;\n",
       "        }\n",
       "        .Relation tr:nth-child(odd){\n",
       "            background: #ffffff;\n",
       "        }\n",
       "        .Relation tr:nth-child(even){\n",
       "            background: #f3f1ff;\n",
       "        }\n",
       "        /* Tooltip container */\n",
       "        .djtooltip {\n",
       "        }\n",
       "        /* Tooltip text */\n",
       "        .djtooltip .djtooltiptext {\n",
       "            visibility: hidden;\n",
       "            width: 120px;\n",
       "            background-color: black;\n",
       "            color: #fff;\n",
       "            text-align: center;\n",
       "            padding: 5px 0;\n",
       "            border-radius: 6px;\n",
       "            /* Position the tooltip text - see examples below! */\n",
       "            position: absolute;\n",
       "            z-index: 1;\n",
       "        }\n",
       "        #primary {\n",
       "            font-weight: bold;\n",
       "            color: black;\n",
       "        }\n",
       "        #nonprimary {\n",
       "            font-weight: normal;\n",
       "            color: white;\n",
       "        }\n",
       "\n",
       "        /* Show the tooltip text when you mouse over the tooltip container */\n",
       "        .djtooltip:hover .djtooltiptext {\n",
       "            visibility: visible;\n",
       "        }\n",
       "    </style>\n",
       "    \n",
       "    <b></b>\n",
       "        <div style=\"max-height:1000px;max-width:1500px;overflow:auto;\">\n",
       "        <table border=\"1\" class=\"Relation\">\n",
       "            <thead> <tr style=\"text-align: right;\"> <th> <div class=\"djtooltip\">\n",
       "                            <p id=\"primary\">subject</p>\n",
       "                            <span class=\"djtooltiptext\"></span>\n",
       "                        </div></th><th><div class=\"djtooltip\">\n",
       "                            <p id=\"primary\">session_datetime</p>\n",
       "                            <span class=\"djtooltiptext\"></span>\n",
       "                        </div></th><th><div class=\"djtooltip\">\n",
       "                            <p id=\"primary\">recording_id</p>\n",
       "                            <span class=\"djtooltiptext\"></span>\n",
       "                        </div></th><th><div class=\"djtooltip\">\n",
       "                            <p id=\"nonprimary\">px_height</p>\n",
       "                            <span class=\"djtooltiptext\">height in pixels</span>\n",
       "                        </div></th><th><div class=\"djtooltip\">\n",
       "                            <p id=\"nonprimary\">px_width</p>\n",
       "                            <span class=\"djtooltiptext\">width in pixels</span>\n",
       "                        </div></th><th><div class=\"djtooltip\">\n",
       "                            <p id=\"nonprimary\">nframes</p>\n",
       "                            <span class=\"djtooltiptext\">number of frames</span>\n",
       "                        </div></th><th><div class=\"djtooltip\">\n",
       "                            <p id=\"nonprimary\">fps</p>\n",
       "                            <span class=\"djtooltiptext\">(Hz) frames per second</span>\n",
       "                        </div></th><th><div class=\"djtooltip\">\n",
       "                            <p id=\"nonprimary\">recording_datetime</p>\n",
       "                            <span class=\"djtooltiptext\">Datetime for the start of the recording</span>\n",
       "                        </div></th><th><div class=\"djtooltip\">\n",
       "                            <p id=\"nonprimary\">recording_duration</p>\n",
       "                            <span class=\"djtooltiptext\">video duration (s) from nframes / fps</span>\n",
       "                        </div> </th> </tr> </thead>\n",
       "            <tbody> <tr> <td>subject6</td>\n",
       "<td>2021-06-02 14:04:22</td>\n",
       "<td>1</td>\n",
       "<td>500</td>\n",
       "<td>500</td>\n",
       "<td>123</td>\n",
       "<td>60</td>\n",
       "<td>None</td>\n",
       "<td>2.05</td> </tr> </tbody>\n",
       "        </table>\n",
       "        \n",
       "        <p>Total: 1</p></div>\n",
       "        "
      ],
      "text/plain": [
       "*subject     *session_datet *recording_id  px_height     px_width     nframes     fps     recording_date recording_dura\n",
       "+----------+ +------------+ +------------+ +-----------+ +----------+ +---------+ +-----+ +------------+ +------------+\n",
       "subject6     2021-06-02 14: 1              500           500          123         60      None           2.05          \n",
       " (Total: 1)"
      ]
     },
     "execution_count": 42,
     "metadata": {},
     "output_type": "execute_result"
    }
   ],
   "source": [
    "model.RecordingInfo.populate()\n",
    "model.RecordingInfo()"
   ]
  },
  {
   "cell_type": "markdown",
   "metadata": {},
   "source": [
    "Next, we specify if the `PoseEstimation` table should load results from an existing file or trigger the estimation command. Here, we can also specify parameters for DeepLabCut's `analyze_videos` as a dictionary."
   ]
  },
  {
   "cell_type": "code",
   "execution_count": 43,
   "metadata": {},
   "outputs": [
    {
     "data": {
      "text/plain": [
       "{'subject': 'subject6',\n",
       " 'session_datetime': datetime.datetime(2021, 6, 2, 14, 4, 22),\n",
       " 'recording_id': 1,\n",
       " 'model_name': 'FromTop-latest',\n",
       " 'task_mode': 'trigger'}"
      ]
     },
     "execution_count": 43,
     "metadata": {},
     "output_type": "execute_result"
    }
   ],
   "source": [
    "key = (model.VideoRecording & {'recording_id': '1'}).fetch1('KEY')\n",
    "key.update({'model_name': 'FromTop-latest', 'task_mode': 'trigger'})\n",
    "key"
   ]
  },
  {
   "cell_type": "code",
   "execution_count": 44,
   "metadata": {},
   "outputs": [
    {
     "name": "stderr",
     "output_type": "stream",
     "text": [
      "Config:\n",
      "{'all_joints': [[0], [1], [2]],\n",
      " 'all_joints_names': ['head', 'bodycenter', 'tailbase'],\n",
      " 'batch_size': 1,\n",
      " 'crop_pad': 0,\n",
      " 'dataset': 'training-datasets/iteration-0/UnaugmentedDataSet_from_top_trackingFeb23/from_top_tracking_DJ95shuffle1.mat',\n",
      " 'dataset_type': 'imgaug',\n",
      " 'deterministic': False,\n",
      " 'fg_fraction': 0.25,\n",
      " 'global_scale': 0.8,\n",
      " 'init_weights': '/Volumes/GoogleDrive/My '\n",
      "                 'Drive/ref/DeepLabCut/deeplabcut/pose_estimation_tensorflow/models/pretrained/mobilenet_v2_1.0_224.ckpt',\n",
      " 'intermediate_supervision': False,\n",
      " 'intermediate_supervision_layer': 12,\n",
      " 'location_refinement': True,\n",
      " 'locref_huber_loss': True,\n",
      " 'locref_loss_weight': 1.0,\n",
      " 'locref_stdev': 7.2801,\n",
      " 'log_dir': 'log',\n",
      " 'mean_pixel': [123.68, 116.779, 103.939],\n",
      " 'mirror': False,\n",
      " 'net_type': 'mobilenet_v2_1.0',\n",
      " 'num_joints': 3,\n",
      " 'optimizer': 'sgd',\n",
      " 'pairwise_huber_loss': True,\n",
      " 'pairwise_predict': False,\n",
      " 'partaffinityfield_predict': False,\n",
      " 'regularize': False,\n",
      " 'scoremap_dir': 'test',\n",
      " 'shuffle': True,\n",
      " 'snapshot_prefix': '/tmp/test_data/from_top_tracking/dlc-models/iteration-0/from_top_trackingFeb23-trainset95shuffle1/test/snapshot',\n",
      " 'stride': 8.0,\n",
      " 'weigh_negatives': False,\n",
      " 'weigh_only_present_joints': False,\n",
      " 'weigh_part_predictions': False,\n",
      " 'weight_decay': 0.0001}\n",
      "/Users/cb/miniconda3/envs/ele/lib/python3.8/site-packages/tensorflow/python/keras/engine/base_layer_v1.py:1694: UserWarning: `layer.apply` is deprecated and will be removed in a future version. Please use `layer.__call__` method instead.\n",
      "  warnings.warn('`layer.apply` is deprecated and '\n"
     ]
    },
    {
     "name": "stdout",
     "output_type": "stream",
     "text": [
      "Using snapshot-103000 for model /tmp/test_data/from_top_tracking/dlc-models/iteration-0/from_top_trackingFeb23-trainset95shuffle1\n",
      "Starting to analyze %  /tmp/test_data/from_top_tracking/videos/test-2s.mp4\n",
      "Loading  /tmp/test_data/from_top_tracking/videos/test-2s.mp4\n",
      "Duration of video [s]:  2.05 , recorded with  60.0 fps!\n",
      "Overall # of frames:  123  found with (before cropping) frame dimensions:  500 500\n",
      "Starting to extract posture\n"
     ]
    },
    {
     "name": "stderr",
     "output_type": "stream",
     "text": [
      " 98%|█████████▊| 120/123 [00:37<00:00,  3.22it/s]\n"
     ]
    },
    {
     "name": "stdout",
     "output_type": "stream",
     "text": [
      "Saving results in /tmp/test_data/from_top_tracking/videos/device_Camera1_recording_1_model_FromTop-latest...\n",
      "Saving csv poses!\n",
      "The videos are analyzed. Now your research can truly start! \n",
      " You can create labeled videos with 'create_labeled_video'\n",
      "If the tracking is not satisfactory for some videos, consider expanding the training set. You can use the function 'extract_outlier_frames' to extract a few representative outlier frames.\n"
     ]
    }
   ],
   "source": [
    "model.PoseEstimationTask.insert_estimation_task(key,params={'save_as_csv':True})\n",
    "model.PoseEstimation.populate()"
   ]
  },
  {
   "cell_type": "markdown",
   "metadata": {},
   "source": [
    "By default, DataJoint will store results in a subdirectory\n",
    ">       <processed_dir> / videos / device_<name>_recording_<#>_model_<name>\n",
    "where `processed_dir` is optionally specified in the datajoint config. If unspecified, this will be the project directory. The device and model names are specified elsewhere in the schema.\n",
    "\n",
    "We can get this estimation directly as a pandas dataframe."
   ]
  },
  {
   "cell_type": "code",
   "execution_count": 45,
   "metadata": {},
   "outputs": [
    {
     "data": {
      "text/html": [
       "<div>\n",
       "<style scoped>\n",
       "    .dataframe tbody tr th:only-of-type {\n",
       "        vertical-align: middle;\n",
       "    }\n",
       "\n",
       "    .dataframe tbody tr th {\n",
       "        vertical-align: top;\n",
       "    }\n",
       "\n",
       "    .dataframe thead tr th {\n",
       "        text-align: left;\n",
       "    }\n",
       "</style>\n",
       "<table border=\"1\" class=\"dataframe\">\n",
       "  <thead>\n",
       "    <tr>\n",
       "      <th>scorer</th>\n",
       "      <th colspan=\"12\" halign=\"left\">FromTop-latest</th>\n",
       "    </tr>\n",
       "    <tr>\n",
       "      <th>bodyparts</th>\n",
       "      <th colspan=\"4\" halign=\"left\">bodycenter</th>\n",
       "      <th colspan=\"4\" halign=\"left\">head</th>\n",
       "      <th colspan=\"4\" halign=\"left\">tailbase</th>\n",
       "    </tr>\n",
       "    <tr>\n",
       "      <th>coords</th>\n",
       "      <th>x</th>\n",
       "      <th>y</th>\n",
       "      <th>z</th>\n",
       "      <th>likelihood</th>\n",
       "      <th>x</th>\n",
       "      <th>y</th>\n",
       "      <th>z</th>\n",
       "      <th>likelihood</th>\n",
       "      <th>x</th>\n",
       "      <th>y</th>\n",
       "      <th>z</th>\n",
       "      <th>likelihood</th>\n",
       "    </tr>\n",
       "  </thead>\n",
       "  <tbody>\n",
       "    <tr>\n",
       "      <th>0</th>\n",
       "      <td>246.782684</td>\n",
       "      <td>298.728088</td>\n",
       "      <td>0.0</td>\n",
       "      <td>0.999998</td>\n",
       "      <td>241.036957</td>\n",
       "      <td>316.332489</td>\n",
       "      <td>0.0</td>\n",
       "      <td>0.999850</td>\n",
       "      <td>256.203064</td>\n",
       "      <td>278.553314</td>\n",
       "      <td>0.0</td>\n",
       "      <td>0.999998</td>\n",
       "    </tr>\n",
       "    <tr>\n",
       "      <th>1</th>\n",
       "      <td>246.217529</td>\n",
       "      <td>299.358063</td>\n",
       "      <td>0.0</td>\n",
       "      <td>0.999997</td>\n",
       "      <td>239.048737</td>\n",
       "      <td>319.177002</td>\n",
       "      <td>0.0</td>\n",
       "      <td>0.999905</td>\n",
       "      <td>255.819626</td>\n",
       "      <td>280.200745</td>\n",
       "      <td>0.0</td>\n",
       "      <td>0.999996</td>\n",
       "    </tr>\n",
       "    <tr>\n",
       "      <th>2</th>\n",
       "      <td>244.459579</td>\n",
       "      <td>301.309235</td>\n",
       "      <td>0.0</td>\n",
       "      <td>0.999999</td>\n",
       "      <td>240.238800</td>\n",
       "      <td>320.525696</td>\n",
       "      <td>0.0</td>\n",
       "      <td>0.999899</td>\n",
       "      <td>255.705093</td>\n",
       "      <td>280.939056</td>\n",
       "      <td>0.0</td>\n",
       "      <td>0.999995</td>\n",
       "    </tr>\n",
       "    <tr>\n",
       "      <th>3</th>\n",
       "      <td>242.014755</td>\n",
       "      <td>302.865204</td>\n",
       "      <td>0.0</td>\n",
       "      <td>0.999999</td>\n",
       "      <td>238.536774</td>\n",
       "      <td>322.324463</td>\n",
       "      <td>0.0</td>\n",
       "      <td>0.999941</td>\n",
       "      <td>254.424484</td>\n",
       "      <td>282.015778</td>\n",
       "      <td>0.0</td>\n",
       "      <td>0.999990</td>\n",
       "    </tr>\n",
       "    <tr>\n",
       "      <th>4</th>\n",
       "      <td>240.900177</td>\n",
       "      <td>303.459167</td>\n",
       "      <td>0.0</td>\n",
       "      <td>0.999998</td>\n",
       "      <td>237.967987</td>\n",
       "      <td>324.072327</td>\n",
       "      <td>0.0</td>\n",
       "      <td>0.999941</td>\n",
       "      <td>252.180603</td>\n",
       "      <td>280.899200</td>\n",
       "      <td>0.0</td>\n",
       "      <td>0.999977</td>\n",
       "    </tr>\n",
       "    <tr>\n",
       "      <th>...</th>\n",
       "      <td>...</td>\n",
       "      <td>...</td>\n",
       "      <td>...</td>\n",
       "      <td>...</td>\n",
       "      <td>...</td>\n",
       "      <td>...</td>\n",
       "      <td>...</td>\n",
       "      <td>...</td>\n",
       "      <td>...</td>\n",
       "      <td>...</td>\n",
       "      <td>...</td>\n",
       "      <td>...</td>\n",
       "    </tr>\n",
       "    <tr>\n",
       "      <th>118</th>\n",
       "      <td>248.682251</td>\n",
       "      <td>364.709869</td>\n",
       "      <td>0.0</td>\n",
       "      <td>0.999965</td>\n",
       "      <td>270.854980</td>\n",
       "      <td>371.893127</td>\n",
       "      <td>0.0</td>\n",
       "      <td>0.999961</td>\n",
       "      <td>234.899185</td>\n",
       "      <td>356.035583</td>\n",
       "      <td>0.0</td>\n",
       "      <td>0.999996</td>\n",
       "    </tr>\n",
       "    <tr>\n",
       "      <th>119</th>\n",
       "      <td>250.326385</td>\n",
       "      <td>366.870361</td>\n",
       "      <td>0.0</td>\n",
       "      <td>0.999972</td>\n",
       "      <td>271.488495</td>\n",
       "      <td>373.099884</td>\n",
       "      <td>0.0</td>\n",
       "      <td>0.999991</td>\n",
       "      <td>235.644073</td>\n",
       "      <td>356.815125</td>\n",
       "      <td>0.0</td>\n",
       "      <td>0.999989</td>\n",
       "    </tr>\n",
       "    <tr>\n",
       "      <th>120</th>\n",
       "      <td>251.634140</td>\n",
       "      <td>367.709198</td>\n",
       "      <td>0.0</td>\n",
       "      <td>0.999972</td>\n",
       "      <td>272.043884</td>\n",
       "      <td>373.402893</td>\n",
       "      <td>0.0</td>\n",
       "      <td>0.999995</td>\n",
       "      <td>236.953812</td>\n",
       "      <td>358.651459</td>\n",
       "      <td>0.0</td>\n",
       "      <td>0.999977</td>\n",
       "    </tr>\n",
       "    <tr>\n",
       "      <th>121</th>\n",
       "      <td>255.393692</td>\n",
       "      <td>364.111145</td>\n",
       "      <td>0.0</td>\n",
       "      <td>0.999979</td>\n",
       "      <td>273.417572</td>\n",
       "      <td>373.906799</td>\n",
       "      <td>0.0</td>\n",
       "      <td>0.999997</td>\n",
       "      <td>238.825363</td>\n",
       "      <td>361.561798</td>\n",
       "      <td>0.0</td>\n",
       "      <td>0.999885</td>\n",
       "    </tr>\n",
       "    <tr>\n",
       "      <th>122</th>\n",
       "      <td>257.736847</td>\n",
       "      <td>365.264008</td>\n",
       "      <td>0.0</td>\n",
       "      <td>0.999996</td>\n",
       "      <td>276.008667</td>\n",
       "      <td>373.901245</td>\n",
       "      <td>0.0</td>\n",
       "      <td>0.999992</td>\n",
       "      <td>239.148163</td>\n",
       "      <td>364.029297</td>\n",
       "      <td>0.0</td>\n",
       "      <td>0.999962</td>\n",
       "    </tr>\n",
       "  </tbody>\n",
       "</table>\n",
       "<p>123 rows × 12 columns</p>\n",
       "</div>"
      ],
      "text/plain": [
       "scorer    FromTop-latest                                                      \\\n",
       "bodyparts     bodycenter                                    head               \n",
       "coords                 x           y    z likelihood           x           y   \n",
       "0             246.782684  298.728088  0.0   0.999998  241.036957  316.332489   \n",
       "1             246.217529  299.358063  0.0   0.999997  239.048737  319.177002   \n",
       "2             244.459579  301.309235  0.0   0.999999  240.238800  320.525696   \n",
       "3             242.014755  302.865204  0.0   0.999999  238.536774  322.324463   \n",
       "4             240.900177  303.459167  0.0   0.999998  237.967987  324.072327   \n",
       "..                   ...         ...  ...        ...         ...         ...   \n",
       "118           248.682251  364.709869  0.0   0.999965  270.854980  371.893127   \n",
       "119           250.326385  366.870361  0.0   0.999972  271.488495  373.099884   \n",
       "120           251.634140  367.709198  0.0   0.999972  272.043884  373.402893   \n",
       "121           255.393692  364.111145  0.0   0.999979  273.417572  373.906799   \n",
       "122           257.736847  365.264008  0.0   0.999996  276.008667  373.901245   \n",
       "\n",
       "scorer                                                             \n",
       "bodyparts                    tailbase                              \n",
       "coords       z likelihood           x           y    z likelihood  \n",
       "0          0.0   0.999850  256.203064  278.553314  0.0   0.999998  \n",
       "1          0.0   0.999905  255.819626  280.200745  0.0   0.999996  \n",
       "2          0.0   0.999899  255.705093  280.939056  0.0   0.999995  \n",
       "3          0.0   0.999941  254.424484  282.015778  0.0   0.999990  \n",
       "4          0.0   0.999941  252.180603  280.899200  0.0   0.999977  \n",
       "..         ...        ...         ...         ...  ...        ...  \n",
       "118        0.0   0.999961  234.899185  356.035583  0.0   0.999996  \n",
       "119        0.0   0.999991  235.644073  356.815125  0.0   0.999989  \n",
       "120        0.0   0.999995  236.953812  358.651459  0.0   0.999977  \n",
       "121        0.0   0.999997  238.825363  361.561798  0.0   0.999885  \n",
       "122        0.0   0.999992  239.148163  364.029297  0.0   0.999962  \n",
       "\n",
       "[123 rows x 12 columns]"
      ]
     },
     "execution_count": 45,
     "metadata": {},
     "output_type": "execute_result"
    }
   ],
   "source": [
    "model.PoseEstimation.get_trajectory(key)"
   ]
  },
  {
   "cell_type": "markdown",
   "metadata": {},
   "source": [
    "In the [next notebook](./04-Automate_Optional.ipynb), we'll look at additional tools in the workflow for automating these steps."
   ]
  }
 ],
 "metadata": {
  "jupytext": {
   "formats": "ipynb,py:percent"
  },
  "kernelspec": {
   "display_name": "Python 3.9.13 ('ele')",
   "language": "python",
   "name": "python3"
  },
  "language_info": {
   "codemirror_mode": {
    "name": "ipython",
    "version": 3
   },
   "file_extension": ".py",
   "mimetype": "text/x-python",
   "name": "python",
   "nbconvert_exporter": "python",
   "pygments_lexer": "ipython3",
   "version": "3.9.13"
  },
  "vscode": {
   "interpreter": {
    "hash": "d00c4ad21a7027bf1726d6ae3a9a6ef39c8838928eca5a3d5f51f3eb68720410"
   }
  }
 },
 "nbformat": 4,
 "nbformat_minor": 4
}
