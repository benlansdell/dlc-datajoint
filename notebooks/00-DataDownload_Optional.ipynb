{
 "cells": [
  {
   "cell_type": "markdown",
   "metadata": {
    "tags": []
   },
   "source": [
    "# DataJoint U24 - Workflow DeepLabCut"
   ]
  },
  {
   "cell_type": "markdown",
   "metadata": {},
   "source": [
    "## Download example data"
   ]
  },
  {
   "cell_type": "markdown",
   "metadata": {},
   "source": [
    "These notebooks are built around data provided by DataJoint, including a well-trained model. For similar content using data from DeepLabCut, see [09-AlternateDataset](./09-AlternateDataset.ipynb).\n",
    "\n",
    "DataJoint provides various datasets via `djarchive`. To pip install..."
   ]
  },
  {
   "cell_type": "code",
   "execution_count": null,
   "metadata": {
    "vscode": {
     "languageId": "shellscript"
    }
   },
   "outputs": [],
   "source": [
    "pip install git+https://github.com/datajoint/djarchive-client.git"
   ]
  },
  {
   "cell_type": "code",
   "execution_count": 1,
   "metadata": {},
   "outputs": [],
   "source": [
    "import os; import djarchive_client\n",
    "client = djarchive_client.client()"
   ]
  },
  {
   "cell_type": "markdown",
   "metadata": {},
   "source": [
    "We can browse available datasets:"
   ]
  },
  {
   "cell_type": "code",
   "execution_count": 2,
   "metadata": {},
   "outputs": [
    {
     "data": {
      "text/plain": [
       "['t',\n",
       " 'workflow-array-ephys-benchmark',\n",
       " 'workflow-calcium-imaging-test-set',\n",
       " 'workflow-dlc-data',\n",
       " 'workflow-facemap',\n",
       " 'workflow-trial']"
      ]
     },
     "execution_count": 2,
     "metadata": {},
     "output_type": "execute_result"
    }
   ],
   "source": [
    "list(client.datasets())"
   ]
  },
  {
   "cell_type": "markdown",
   "metadata": {},
   "source": [
    "Datasets have different versions available:"
   ]
  },
  {
   "cell_type": "code",
   "execution_count": 3,
   "metadata": {},
   "outputs": [
    {
     "data": {
      "text/plain": [
       "[('t', '1'),\n",
       " ('workflow-array-ephys-benchmark', '0.1.0a4'),\n",
       " ('workflow-array-ephys-benchmark', 'v1'),\n",
       " ('workflow-calcium-imaging-test-set', '0_1_0a2'),\n",
       " ('workflow-dlc-data', 'v1'),\n",
       " ('workflow-facemap', '0.0.0'),\n",
       " ('workflow-trial', '0.0.0b1')]"
      ]
     },
     "execution_count": 3,
     "metadata": {},
     "output_type": "execute_result"
    }
   ],
   "source": [
    "list(client.revisions())"
   ]
  },
  {
   "cell_type": "markdown",
   "metadata": {},
   "source": [
    "We can make a directory for downloading:"
   ]
  },
  {
   "cell_type": "code",
   "execution_count": 6,
   "metadata": {},
   "outputs": [],
   "source": [
    "os.makedirs('/tmp/test_data', exist_ok=True)"
   ]
  },
  {
   "cell_type": "markdown",
   "metadata": {},
   "source": [
    "Then run download for a given set and the revision:"
   ]
  },
  {
   "cell_type": "code",
   "execution_count": 7,
   "metadata": {},
   "outputs": [
    {
     "data": {
      "text/plain": [
       "(79, 0)"
      ]
     },
     "execution_count": 7,
     "metadata": {},
     "output_type": "execute_result"
    }
   ],
   "source": [
    "client.download('workflow-dlc-data',\n",
    "                target_directory='/tmp/test_data/', \n",
    "                revision='v1')"
   ]
  },
  {
   "cell_type": "markdown",
   "metadata": {},
   "source": [
    "## Directory organization\n",
    "\n",
    "After downloading, the directory will be organized as follows:"
   ]
  },
  {
   "cell_type": "markdown",
   "metadata": {},
   "source": [
    "```\n",
    "/tmp/test_data/from_top_tracking/\n",
    "- config.yml\n",
    "- dlc-models/iteration-0/from_top_trackingFeb23-trainset95shuffle1/\n",
    "    - test/pose_cfg.yaml\n",
    "    - train/\n",
    "        - checkpoint\n",
    "        - checkpoint_orig\n",
    "        ─ learning_stats.csv\n",
    "        ─ log.txt\n",
    "        ─ pose_cfg.yaml\n",
    "        ─ snapshot-10300.data-00000-of-00001\n",
    "        ─ snapshot-10300.index\n",
    "        ─ snapshot-10300.meta   # same for 103000\n",
    "- labeled-data/\n",
    "    - train1/\n",
    "        - CollectedData_DJ.csv\n",
    "        - CollectedData_DJ.h5\n",
    "        - img00674.png          # and others\n",
    "    - train2/                   # similar to above\n",
    "- videos/\n",
    "    - test.mp4\n",
    "    - train1.mp4\n",
    "```"
   ]
  },
  {
   "cell_type": "markdown",
   "metadata": {},
   "source": [
    "We will use this dataset as an example across this series of notebooks. If you use another dataset, change the path accordingly.\n",
    "\n",
    "- `config.yaml` contains key parameters of the project\n",
    "- `labeled-data` includes pixel coordinates for each body part\n",
    "- `videos` includes the full training and inference videos\n",
    "\n",
    "This workflow contains additional functions for setting up this demo data, including adding absolute paths to config files and shortening the inference video to speed up pose estimation."
   ]
  },
  {
   "cell_type": "code",
   "execution_count": 1,
   "metadata": {},
   "outputs": [
    {
     "name": "stdout",
     "output_type": "stream",
     "text": [
      "Loading DLC 2.2.1.1...\n",
      "DLC loaded in light mode; you cannot use any GUI (labeling, relabeling and standalone GUI)\n"
     ]
    }
   ],
   "source": [
    "from workflow_deeplabcut.load_demo_data import setup_bare_project, shorten_video\n",
    "\n",
    "setup_bare_project(project=\"/tmp/test_data/from_top_tracking\", \n",
    "                   net_type = \"mobilenet_v2_1.0\") # sets paths\n",
    "shorten_video(\"/tmp/test_data/from_top_tracking/videos/test.mp4\",\n",
    "              output_path=None,first_n_sec=2) # makes test-2s.mp4"
   ]
  },
  {
   "cell_type": "markdown",
   "metadata": {},
   "source": [
    "For your own data, we recommend using the DLC gui to intitialize your project and label the data. \n",
    "\n",
    "In the next notebook, [01-Configure](./01-Configure.ipynb), we'll set up the DataJoint config file with a pointer to your root data directory."
   ]
  }
 ],
 "metadata": {
  "jupytext": {
   "formats": "ipynb,py:percent"
  },
  "kernelspec": {
   "display_name": "Python 3.8.11 ('ele')",
   "language": "python",
   "name": "python3"
  },
  "language_info": {
   "codemirror_mode": {
    "name": "ipython",
    "version": 3
   },
   "file_extension": ".py",
   "mimetype": "text/x-python",
   "name": "python",
   "nbconvert_exporter": "python",
   "pygments_lexer": "ipython3",
   "version": "3.8.11"
  },
  "toc-autonumbering": false,
  "toc-showcode": false,
  "toc-showmarkdowntxt": false,
  "vscode": {
   "interpreter": {
    "hash": "61456c693db5d9aa6731701ec9a9b08ab88a172bee0780139a3679beb166da16"
   }
  }
 },
 "nbformat": 4,
 "nbformat_minor": 4
}
